{
 "cells": [
  {
   "cell_type": "code",
   "execution_count": null,
   "id": "b5d6550b",
   "metadata": {},
   "outputs": [],
   "source": [
    "import sys\n",
    "sys.path.insert(0, \"..\")  # parent dir = project root\n",
    "\n",
    "from pyscripts import PROJECT_ROOT, BOT_BIN\n",
    "from pyscripts.cli import launch_bot, stream_launch_bot"
   ]
  },
  {
   "cell_type": "code",
   "execution_count": null,
   "id": "de6ff88a",
   "metadata": {},
   "outputs": [],
   "source": [
    "res = launch_bot([\"--help\"])\n",
    "print(res.stdout)"
   ]
  },
  {
   "cell_type": "code",
   "execution_count": null,
   "id": "ee03092f",
   "metadata": {},
   "outputs": [],
   "source": [
    "\n",
    "# Create a portfolio\n",
    "res = launch_bot([\"create\", \"portfolio\", \"--name\", \"PythonPortfolio\", \"--cash\", \"999\"], env={\"BOT_PATH\": str(PROJECT_ROOT)})\n",
    "print(\"exit:\", res.returncode)\n",
    "print(res.stdout)"
   ]
  },
  {
   "cell_type": "code",
   "execution_count": null,
   "id": "7960dd75",
   "metadata": {},
   "outputs": [],
   "source": [
    "# Delete a portfolio\n",
    "res = launch_bot([\"delete\", \"portfolio\", \"--name\", \"PythonPortfolio\"], env={\"BOT_PATH\": str(PROJECT_ROOT)})\n",
    "print(\"exit:\", res.returncode)\n",
    "print(res.stdout)"
   ]
  },
  {
   "cell_type": "code",
   "execution_count": null,
   "id": "ba8d3f7d",
   "metadata": {},
   "outputs": [],
   "source": [
    "\n",
    "# Backtest a strategy\n",
    "# res = launch_bot([\"backtest\", \"--config\", \"configs/demo.json\"], env={\"BOT_PATH\": str(PROJECT_ROOT)})\n",
    "# print(\"exit:\", res.returncode)\n",
    "# print(res.stdout)"
   ]
  },
  {
   "cell_type": "code",
   "execution_count": null,
   "id": "71273a8f",
   "metadata": {},
   "outputs": [],
   "source": [
    "# Live stream of bot output\n",
    "# code = stream_bot([\"run\", \"-mode\", \"paper\"])\n",
    "# print(\"exit code:\", code)"
   ]
  },
  {
   "cell_type": "code",
   "execution_count": null,
   "id": "6f67f078",
   "metadata": {},
   "outputs": [],
   "source": [
    "# have live portfolio value, asset value and buy/sell signals on graph"
   ]
  }
 ],
 "metadata": {
  "kernelspec": {
   "display_name": ".venv (3.13.2)",
   "language": "python",
   "name": "python3"
  },
  "language_info": {
   "codemirror_mode": {
    "name": "ipython",
    "version": 3
   },
   "file_extension": ".py",
   "mimetype": "text/x-python",
   "name": "python",
   "nbconvert_exporter": "python",
   "pygments_lexer": "ipython3",
   "version": "3.13.2"
  }
 },
 "nbformat": 4,
 "nbformat_minor": 5
}
